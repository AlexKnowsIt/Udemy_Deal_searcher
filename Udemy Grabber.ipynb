{
 "cells": [
  {
   "cell_type": "markdown",
   "metadata": {},
   "source": [
    "# Udemy Grabber"
   ]
  },
  {
   "cell_type": "code",
   "execution_count": 113,
   "metadata": {},
   "outputs": [],
   "source": [
    "import requests\n",
    "from bs4 import BeautifulSoup\n",
    "from selenium import webdriver\n",
    "from selenium.webdriver.support.ui import WebDriverWait\n",
    "from selenium.webdriver.support import expected_conditions as EC\n",
    "from selenium.webdriver.common.by import By\n",
    "from selenium.webdriver.common.keys import Keys\n",
    "import pandas as pd\n",
    "from random import randint\n",
    "from time import sleep\n",
    "import re\n",
    "from datetime import datetime, timedelta"
   ]
  },
  {
   "cell_type": "code",
   "execution_count": 114,
   "metadata": {},
   "outputs": [],
   "source": [
    "driver = webdriver.Firefox()\n",
    "\n",
    "headers = requests.utils.default_headers()\n",
    "headers['User-Agent'] = 'Mozilla/5.0 (X11; Linux x86_64) AppleWebKit/537.36 (KHTML, like Gecko) Chrome/56.0.2924.87 Safari/537.36'"
   ]
  },
  {
   "cell_type": "markdown",
   "metadata": {},
   "source": [
    "## Gather Courses"
   ]
  },
  {
   "cell_type": "code",
   "execution_count": 115,
   "metadata": {},
   "outputs": [],
   "source": [
    "udemy = []"
   ]
  },
  {
   "cell_type": "markdown",
   "metadata": {},
   "source": [
    "### yofreesamples.com"
   ]
  },
  {
   "cell_type": "code",
   "execution_count": 116,
   "metadata": {},
   "outputs": [],
   "source": [
    "freesamples_courses = set()\n",
    "page = requests.get('https://yofreesamples.com/courses/free-discounted-udemy-courses-list/', headers=headers, timeout=10)\n",
    "soup = BeautifulSoup(page.text, 'html.parser')\n",
    "lis = soup.find(\"ul\", {\"class\": \"list\"}).find_all('li')\n",
    "freesamples_courses = freesamples_courses.union([li.find('a', {'class': 'course_title'})['href'] for li in lis])"
   ]
  },
  {
   "cell_type": "code",
   "execution_count": 117,
   "metadata": {},
   "outputs": [
    {
     "name": "stdout",
     "output_type": "stream",
     "text": [
      "Found 84 courses.\n"
     ]
    }
   ],
   "source": [
    "print('Found {} courses.'.format(len(freesamples_courses)))"
   ]
  },
  {
   "cell_type": "markdown",
   "metadata": {},
   "source": [
    "### bez-postovneho.cz"
   ]
  },
  {
   "cell_type": "code",
   "execution_count": 118,
   "metadata": {},
   "outputs": [],
   "source": [
    "bez = set()\n",
    "bez_courses = set()\n",
    "for i in range(1, 5):\n",
    "    page = requests.get('https://bez-postovneho.cz/?page={}'.format(i), headers=headers, timeout=10)\n",
    "    soup = BeautifulSoup(page.text, 'html.parser')\n",
    "    links = soup.find_all(href=re.compile(\"free-udemy-course/\"))\n",
    "    bez = bez.union([link['href'] for link in links])\n",
    "\n",
    "for course in bez:\n",
    "    course = requests.get(course, headers=headers, timeout=10)\n",
    "    soup = BeautifulSoup(course.text, 'html.parser')\n",
    "    tag = soup.find(href=re.compile('udemy.com/course[\\S]*couponCode'))\n",
    "    if tag:\n",
    "        bez_courses.add(tag['href'])"
   ]
  },
  {
   "cell_type": "code",
   "execution_count": 119,
   "metadata": {},
   "outputs": [
    {
     "name": "stdout",
     "output_type": "stream",
     "text": [
      "Found 28 courses.\n"
     ]
    }
   ],
   "source": [
    "print('Found {} courses.'.format(len(bez_courses)))"
   ]
  },
  {
   "cell_type": "markdown",
   "metadata": {},
   "source": [
    "### reddit"
   ]
  },
  {
   "cell_type": "code",
   "execution_count": 120,
   "metadata": {},
   "outputs": [],
   "source": [
    "reddit_courses = set()\n",
    "regex = re.compile(\"http[s]*://www.udemy.com/course/[\\w\\d\\-]{5,}/[\\w?\\d/]*couponCode=[\\w]{3,}\")\n",
    "\n",
    "page = requests.get('https://www.reddit.com/r/Udemy/.json', headers=headers)\n",
    "for article in page.json()['data']['children']:\n",
    "    if datetime.utcfromtimestamp(article['data']['created_utc']) > (datetime.now() - timedelta(10)):\n",
    "        text = article['data']['selftext']\n",
    "        urls = re.findall(regex, text)\n",
    "        if urls:\n",
    "            reddit_courses = reddit_courses.union(urls)"
   ]
  },
  {
   "cell_type": "code",
   "execution_count": 121,
   "metadata": {},
   "outputs": [
    {
     "name": "stdout",
     "output_type": "stream",
     "text": [
      "Found 3 courses.\n"
     ]
    }
   ],
   "source": [
    "print('Found {} courses.'.format(len(reddit_courses)))"
   ]
  },
  {
   "cell_type": "markdown",
   "metadata": {},
   "source": [
    "### couponscorpion"
   ]
  },
  {
   "cell_type": "code",
   "execution_count": 122,
   "metadata": {},
   "outputs": [],
   "source": [
    "scorpion = set()\n",
    "scorpion_courses = set()\n",
    "for i in range(1, 10):\n",
    "    page = requests.get('https://couponscorpion.com/page/{}/'.format(i), headers=headers, timeout=10)\n",
    "    soup = BeautifulSoup(page.text, 'html.parser')\n",
    "    articles = soup.find_all('article')\n",
    "    scorpion = scorpion.union([course for course in articles if course.find('span', 'grid_onsale')])\n",
    "\n",
    "for course in scorpion:\n",
    "    if course.find('span', 'grid_onsale').text == '100% OFF':\n",
    "        driver.get(course.find(href=True)['href'])\n",
    "        sleep(4)\n",
    "        link = driver.find_element_by_xpath(\"//span[@class='rh_button_wrapper']/a\").get_attribute('href')\n",
    "        driver.get(link)\n",
    "        scorpion_courses.add(driver.current_url[:driver.current_url.find('&')])"
   ]
  },
  {
   "cell_type": "code",
   "execution_count": 123,
   "metadata": {},
   "outputs": [
    {
     "name": "stdout",
     "output_type": "stream",
     "text": [
      "Found 38 courses.\n"
     ]
    }
   ],
   "source": [
    "print('Found {} courses.'.format(len(scorpion_courses)))"
   ]
  },
  {
   "cell_type": "markdown",
   "metadata": {},
   "source": [
    "### discudemy"
   ]
  },
  {
   "cell_type": "code",
   "execution_count": 124,
   "metadata": {},
   "outputs": [],
   "source": [
    "discudemy = set()\n",
    "discudemy_courses = set()\n",
    "\n",
    "for i in range(1, 10):\n",
    "    page = requests.get('https://www.discudemy.com/all/{}'.format(i), headers=headers, timeout=10)\n",
    "    soup = BeautifulSoup(page.text, 'html.parser')\n",
    "    for div in soup.find_all('div', 'content'):\n",
    "        if div.find('div', 'header'):\n",
    "            if div.find('div', 'meta').text.find('->') > 0:\n",
    "                discudemy.add(div.find('a', href=True)['href'])\n",
    "\n",
    "regex = re.compile(\"/[\\w\\d\\-]+/\")\n",
    "for course in discudemy:\n",
    "    page = requests.get(regex.sub('/go/', course), headers=headers, timeout=10)\n",
    "    soup = BeautifulSoup(page.text, 'html.parser')\n",
    "    discudemy_courses.add(soup.find('div', 'ui segment').find('a', href=True)['href'])"
   ]
  },
  {
   "cell_type": "markdown",
   "metadata": {},
   "source": [
    "### Merge Courses"
   ]
  },
  {
   "cell_type": "code",
   "execution_count": 125,
   "metadata": {},
   "outputs": [],
   "source": [
    "udemy = scorpion_courses | reddit_courses | bez_courses | freesamples_courses | discudemy_courses"
   ]
  },
  {
   "cell_type": "code",
   "execution_count": 126,
   "metadata": {},
   "outputs": [
    {
     "name": "stdout",
     "output_type": "stream",
     "text": [
      "Found 147 courses.\n"
     ]
    }
   ],
   "source": [
    "print('Found {} courses.'.format(len(udemy)))"
   ]
  },
  {
   "cell_type": "markdown",
   "metadata": {},
   "source": [
    "## Analyse\n",
    "Find courses on Udemy, verify that they are free but not permanently, and crawl metadata. Use `sleep` to prevent Udemy from blocking us."
   ]
  },
  {
   "cell_type": "code",
   "execution_count": 127,
   "metadata": {},
   "outputs": [],
   "source": [
    "def get_course_info(link):\n",
    "    driver.get(link)\n",
    "\n",
    "    # get title, price, topics, language, and rating\n",
    "    try:\n",
    "        price = driver.find_element_by_xpath(\"//div[@class='price-text']/span[1]\").text[17:]\n",
    "        if price == 'Kostenlos':\n",
    "            topic = driver.find_elements_by_xpath(\"//a[@class='topic-menu__link']\")\n",
    "            topics = [t.text for t in topic]\n",
    "            rate = driver.find_elements_by_xpath(\"//span[@class='tooltip-container']\")\n",
    "            rating = [r.text for r in rate if not r.text.strip() == \"\"]\n",
    "            title = driver.find_element_by_xpath('//h1').text\n",
    "            language = driver.find_element_by_xpath(\"//div[@class='clp-lead__locale']\").text\n",
    "\n",
    "            data = {'title': title,\n",
    "                    'link': link,\n",
    "                    'rating': float(rating[0][:3].replace(',', '.')),\n",
    "                    'num_ratings': int(rating[0][5:rating[0].find('Bew')].replace('.', '')),\n",
    "                    'language': language,\n",
    "                   }\n",
    "            tops = dict(zip(['topic_' + str(t) for t in list(range(len(topics)))], topics))\n",
    "            return {**data, **tops}\n",
    "    except:\n",
    "        pass"
   ]
  },
  {
   "cell_type": "code",
   "execution_count": 128,
   "metadata": {},
   "outputs": [],
   "source": [
    "df = pd.DataFrame(columns=['title', 'link', 'rating', 'topic_0', 'topic_1', 'topic_2'])\n",
    "for link in set(udemy):\n",
    "    df = df.append(get_course_info(link), ignore_index=True)\n",
    "    sleep(randint(1,2))"
   ]
  },
  {
   "cell_type": "markdown",
   "metadata": {},
   "source": [
    "## Find valuable Courses with high rating"
   ]
  },
  {
   "cell_type": "code",
   "execution_count": 129,
   "metadata": {},
   "outputs": [],
   "source": [
    "valuable = df[(df.rating > 3) & (df.num_ratings > 8)].sort_values(by=['language', 'topic_0', 'topic_1'])"
   ]
  },
  {
   "cell_type": "code",
   "execution_count": 130,
   "metadata": {
    "scrolled": true
   },
   "outputs": [
    {
     "data": {
      "text/html": [
       "<div>\n",
       "<style scoped>\n",
       "    .dataframe tbody tr th:only-of-type {\n",
       "        vertical-align: middle;\n",
       "    }\n",
       "\n",
       "    .dataframe tbody tr th {\n",
       "        vertical-align: top;\n",
       "    }\n",
       "\n",
       "    .dataframe thead th {\n",
       "        text-align: right;\n",
       "    }\n",
       "</style>\n",
       "<table border=\"1\" class=\"dataframe\">\n",
       "  <thead>\n",
       "    <tr style=\"text-align: right;\">\n",
       "      <th></th>\n",
       "      <th>title</th>\n",
       "      <th>link</th>\n",
       "      <th>rating</th>\n",
       "      <th>topic_0</th>\n",
       "      <th>topic_1</th>\n",
       "      <th>topic_2</th>\n",
       "      <th>language</th>\n",
       "      <th>num_ratings</th>\n",
       "    </tr>\n",
       "  </thead>\n",
       "  <tbody>\n",
       "    <tr>\n",
       "      <td>23</td>\n",
       "      <td>Basic Bookkeeping Hacks</td>\n",
       "      <td>https://www.udemy.com/course/basic-bookkeeping...</td>\n",
       "      <td>3.5</td>\n",
       "      <td>Business</td>\n",
       "      <td>Finanzen</td>\n",
       "      <td>Buchhaltung</td>\n",
       "      <td>Englisch</td>\n",
       "      <td>56.0</td>\n",
       "    </tr>\n",
       "    <tr>\n",
       "      <td>26</td>\n",
       "      <td>Save on Your Taxes</td>\n",
       "      <td>https://www.udemy.com/course/save-on-your-taxe...</td>\n",
       "      <td>3.9</td>\n",
       "      <td>Business</td>\n",
       "      <td>Finanzen</td>\n",
       "      <td>Steuererklärung</td>\n",
       "      <td>Englisch</td>\n",
       "      <td>33.0</td>\n",
       "    </tr>\n",
       "    <tr>\n",
       "      <td>86</td>\n",
       "      <td>Forex Trading: The Complete Guide for Beginners</td>\n",
       "      <td>https://www.udemy.com/course/success-forex/?co...</td>\n",
       "      <td>3.9</td>\n",
       "      <td>Business</td>\n",
       "      <td>Finanzen</td>\n",
       "      <td>Devisenmarkt</td>\n",
       "      <td>Englisch</td>\n",
       "      <td>83.0</td>\n",
       "    </tr>\n",
       "    <tr>\n",
       "      <td>44</td>\n",
       "      <td>Vocal Presentation Skills From Hollywood Legends</td>\n",
       "      <td>https://www.udemy.com/course/vocal-presentatio...</td>\n",
       "      <td>3.9</td>\n",
       "      <td>Business</td>\n",
       "      <td>Kommunikation</td>\n",
       "      <td>Singen</td>\n",
       "      <td>Englisch</td>\n",
       "      <td>34.0</td>\n",
       "    </tr>\n",
       "    <tr>\n",
       "      <td>101</td>\n",
       "      <td>The Complete Udemy Instructor Mastermind [Unof...</td>\n",
       "      <td>https://www.udemy.com/course/the-complete-udem...</td>\n",
       "      <td>4.6</td>\n",
       "      <td>Business</td>\n",
       "      <td>Medien</td>\n",
       "      <td>Online-Kurs-Erstellung</td>\n",
       "      <td>Englisch</td>\n",
       "      <td>10.0</td>\n",
       "    </tr>\n",
       "    <tr>\n",
       "      <td>...</td>\n",
       "      <td>...</td>\n",
       "      <td>...</td>\n",
       "      <td>...</td>\n",
       "      <td>...</td>\n",
       "      <td>...</td>\n",
       "      <td>...</td>\n",
       "      <td>...</td>\n",
       "      <td>...</td>\n",
       "    </tr>\n",
       "    <tr>\n",
       "      <td>105</td>\n",
       "      <td>Learn Advanced jQuery</td>\n",
       "      <td>https://www.udemy.com/course/the-learn-jquery-...</td>\n",
       "      <td>3.7</td>\n",
       "      <td>Programmierung</td>\n",
       "      <td>Webentwicklung</td>\n",
       "      <td>jQuery</td>\n",
       "      <td>Englisch</td>\n",
       "      <td>93.0</td>\n",
       "    </tr>\n",
       "    <tr>\n",
       "      <td>106</td>\n",
       "      <td>Podcast in The Classroom - Kindergarten to Hig...</td>\n",
       "      <td>https://www.udemy.com/course/learn-to-podcast-...</td>\n",
       "      <td>5.0</td>\n",
       "      <td>Wissenschaft &amp; Lehre</td>\n",
       "      <td>Lehrausbildung</td>\n",
       "      <td>Podcasts</td>\n",
       "      <td>Englisch</td>\n",
       "      <td>17.0</td>\n",
       "    </tr>\n",
       "    <tr>\n",
       "      <td>73</td>\n",
       "      <td>How To Create An Online Course That Sells</td>\n",
       "      <td>https://www.udemy.com/course/how-to-create-an-...</td>\n",
       "      <td>4.4</td>\n",
       "      <td>Wissenschaft &amp; Lehre</td>\n",
       "      <td>Online-Unterricht</td>\n",
       "      <td>Online-Kurs-Erstellung</td>\n",
       "      <td>Englisch</td>\n",
       "      <td>160.0</td>\n",
       "    </tr>\n",
       "    <tr>\n",
       "      <td>17</td>\n",
       "      <td>Understanding the GMAT: Introduction Course</td>\n",
       "      <td>https://www.udemy.com/course/understanding-the...</td>\n",
       "      <td>3.7</td>\n",
       "      <td>Wissenschaft &amp; Lehre</td>\n",
       "      <td>Prüfungsvorbereitung</td>\n",
       "      <td>GMAT</td>\n",
       "      <td>Englisch</td>\n",
       "      <td>194.0</td>\n",
       "    </tr>\n",
       "    <tr>\n",
       "      <td>66</td>\n",
       "      <td>Express GRE 320+ Preparation Formula</td>\n",
       "      <td>https://www.udemy.com/course/express-gre-prepa...</td>\n",
       "      <td>3.4</td>\n",
       "      <td>Wissenschaft &amp; Lehre</td>\n",
       "      <td>Prüfungsvorbereitung</td>\n",
       "      <td>GRE</td>\n",
       "      <td>Englisch</td>\n",
       "      <td>32.0</td>\n",
       "    </tr>\n",
       "  </tbody>\n",
       "</table>\n",
       "<p>65 rows × 8 columns</p>\n",
       "</div>"
      ],
      "text/plain": [
       "                                                 title  \\\n",
       "23                             Basic Bookkeeping Hacks   \n",
       "26                                  Save on Your Taxes   \n",
       "86     Forex Trading: The Complete Guide for Beginners   \n",
       "44    Vocal Presentation Skills From Hollywood Legends   \n",
       "101  The Complete Udemy Instructor Mastermind [Unof...   \n",
       "..                                                 ...   \n",
       "105                              Learn Advanced jQuery   \n",
       "106  Podcast in The Classroom - Kindergarten to Hig...   \n",
       "73           How To Create An Online Course That Sells   \n",
       "17         Understanding the GMAT: Introduction Course   \n",
       "66                Express GRE 320+ Preparation Formula   \n",
       "\n",
       "                                                  link  rating  \\\n",
       "23   https://www.udemy.com/course/basic-bookkeeping...     3.5   \n",
       "26   https://www.udemy.com/course/save-on-your-taxe...     3.9   \n",
       "86   https://www.udemy.com/course/success-forex/?co...     3.9   \n",
       "44   https://www.udemy.com/course/vocal-presentatio...     3.9   \n",
       "101  https://www.udemy.com/course/the-complete-udem...     4.6   \n",
       "..                                                 ...     ...   \n",
       "105  https://www.udemy.com/course/the-learn-jquery-...     3.7   \n",
       "106  https://www.udemy.com/course/learn-to-podcast-...     5.0   \n",
       "73   https://www.udemy.com/course/how-to-create-an-...     4.4   \n",
       "17   https://www.udemy.com/course/understanding-the...     3.7   \n",
       "66   https://www.udemy.com/course/express-gre-prepa...     3.4   \n",
       "\n",
       "                  topic_0               topic_1                 topic_2  \\\n",
       "23               Business              Finanzen             Buchhaltung   \n",
       "26               Business              Finanzen         Steuererklärung   \n",
       "86               Business              Finanzen            Devisenmarkt   \n",
       "44               Business         Kommunikation                  Singen   \n",
       "101              Business                Medien  Online-Kurs-Erstellung   \n",
       "..                    ...                   ...                     ...   \n",
       "105        Programmierung        Webentwicklung                  jQuery   \n",
       "106  Wissenschaft & Lehre        Lehrausbildung                Podcasts   \n",
       "73   Wissenschaft & Lehre     Online-Unterricht  Online-Kurs-Erstellung   \n",
       "17   Wissenschaft & Lehre  Prüfungsvorbereitung                    GMAT   \n",
       "66   Wissenschaft & Lehre  Prüfungsvorbereitung                     GRE   \n",
       "\n",
       "     language  num_ratings  \n",
       "23   Englisch         56.0  \n",
       "26   Englisch         33.0  \n",
       "86   Englisch         83.0  \n",
       "44   Englisch         34.0  \n",
       "101  Englisch         10.0  \n",
       "..        ...          ...  \n",
       "105  Englisch         93.0  \n",
       "106  Englisch         17.0  \n",
       "73   Englisch        160.0  \n",
       "17   Englisch        194.0  \n",
       "66   Englisch         32.0  \n",
       "\n",
       "[65 rows x 8 columns]"
      ]
     },
     "execution_count": 130,
     "metadata": {},
     "output_type": "execute_result"
    }
   ],
   "source": [
    "valuable"
   ]
  },
  {
   "cell_type": "code",
   "execution_count": 131,
   "metadata": {},
   "outputs": [],
   "source": [
    "path = datetime.now().strftime('%Y-%m-%d %H-%M')\n",
    "valuable.to_csv('./udemy-courses/' + path + '.csv')"
   ]
  },
  {
   "cell_type": "code",
   "execution_count": 132,
   "metadata": {},
   "outputs": [],
   "source": [
    "old_courses = pd.read_csv('./udemy-courses/2020-02-12 21-10.csv')\n",
    "new_courses = [course.title for course in valuable.itertuples() if not course.title in list(old_courses.title)]"
   ]
  },
  {
   "cell_type": "markdown",
   "metadata": {},
   "source": [
    "## Login to mydealz"
   ]
  },
  {
   "cell_type": "code",
   "execution_count": 56,
   "metadata": {},
   "outputs": [
    {
     "ename": "NoSuchElementException",
     "evalue": "Message: Unable to locate element: input\n",
     "output_type": "error",
     "traceback": [
      "\u001b[1;31m---------------------------------------------------------------------------\u001b[0m",
      "\u001b[1;31mNoSuchElementException\u001b[0m                    Traceback (most recent call last)",
      "\u001b[1;32m<ipython-input-56-4a67b769edcc>\u001b[0m in \u001b[0;36m<module>\u001b[1;34m\u001b[0m\n\u001b[0;32m      1\u001b[0m \u001b[0mdriver\u001b[0m\u001b[1;33m.\u001b[0m\u001b[0mget\u001b[0m\u001b[1;33m(\u001b[0m\u001b[1;34m'https://www.mydealz.de/user/social/provider/google'\u001b[0m\u001b[1;33m)\u001b[0m\u001b[1;33m\u001b[0m\u001b[1;33m\u001b[0m\u001b[0m\n\u001b[1;32m----> 2\u001b[1;33m \u001b[0mdriver\u001b[0m\u001b[1;33m.\u001b[0m\u001b[0mfind_element_by_tag_name\u001b[0m\u001b[1;33m(\u001b[0m\u001b[1;34m'input'\u001b[0m\u001b[1;33m)\u001b[0m\u001b[1;33m.\u001b[0m\u001b[0msend_keys\u001b[0m\u001b[1;33m(\u001b[0m\u001b[1;34m'web.gregor'\u001b[0m\u001b[1;33m)\u001b[0m\u001b[1;33m\u001b[0m\u001b[1;33m\u001b[0m\u001b[0m\n\u001b[0m",
      "\u001b[1;32mD:\\Programme\\Anaconda\\lib\\site-packages\\selenium\\webdriver\\remote\\webdriver.py\u001b[0m in \u001b[0;36mfind_element_by_tag_name\u001b[1;34m(self, name)\u001b[0m\n\u001b[0;32m    528\u001b[0m             \u001b[0melement\u001b[0m \u001b[1;33m=\u001b[0m \u001b[0mdriver\u001b[0m\u001b[1;33m.\u001b[0m\u001b[0mfind_element_by_tag_name\u001b[0m\u001b[1;33m(\u001b[0m\u001b[1;34m'h1'\u001b[0m\u001b[1;33m)\u001b[0m\u001b[1;33m\u001b[0m\u001b[1;33m\u001b[0m\u001b[0m\n\u001b[0;32m    529\u001b[0m         \"\"\"\n\u001b[1;32m--> 530\u001b[1;33m         \u001b[1;32mreturn\u001b[0m \u001b[0mself\u001b[0m\u001b[1;33m.\u001b[0m\u001b[0mfind_element\u001b[0m\u001b[1;33m(\u001b[0m\u001b[0mby\u001b[0m\u001b[1;33m=\u001b[0m\u001b[0mBy\u001b[0m\u001b[1;33m.\u001b[0m\u001b[0mTAG_NAME\u001b[0m\u001b[1;33m,\u001b[0m \u001b[0mvalue\u001b[0m\u001b[1;33m=\u001b[0m\u001b[0mname\u001b[0m\u001b[1;33m)\u001b[0m\u001b[1;33m\u001b[0m\u001b[1;33m\u001b[0m\u001b[0m\n\u001b[0m\u001b[0;32m    531\u001b[0m \u001b[1;33m\u001b[0m\u001b[0m\n\u001b[0;32m    532\u001b[0m     \u001b[1;32mdef\u001b[0m \u001b[0mfind_elements_by_tag_name\u001b[0m\u001b[1;33m(\u001b[0m\u001b[0mself\u001b[0m\u001b[1;33m,\u001b[0m \u001b[0mname\u001b[0m\u001b[1;33m)\u001b[0m\u001b[1;33m:\u001b[0m\u001b[1;33m\u001b[0m\u001b[1;33m\u001b[0m\u001b[0m\n",
      "\u001b[1;32mD:\\Programme\\Anaconda\\lib\\site-packages\\selenium\\webdriver\\remote\\webdriver.py\u001b[0m in \u001b[0;36mfind_element\u001b[1;34m(self, by, value)\u001b[0m\n\u001b[0;32m    976\u001b[0m         return self.execute(Command.FIND_ELEMENT, {\n\u001b[0;32m    977\u001b[0m             \u001b[1;34m'using'\u001b[0m\u001b[1;33m:\u001b[0m \u001b[0mby\u001b[0m\u001b[1;33m,\u001b[0m\u001b[1;33m\u001b[0m\u001b[1;33m\u001b[0m\u001b[0m\n\u001b[1;32m--> 978\u001b[1;33m             'value': value})['value']\n\u001b[0m\u001b[0;32m    979\u001b[0m \u001b[1;33m\u001b[0m\u001b[0m\n\u001b[0;32m    980\u001b[0m     \u001b[1;32mdef\u001b[0m \u001b[0mfind_elements\u001b[0m\u001b[1;33m(\u001b[0m\u001b[0mself\u001b[0m\u001b[1;33m,\u001b[0m \u001b[0mby\u001b[0m\u001b[1;33m=\u001b[0m\u001b[0mBy\u001b[0m\u001b[1;33m.\u001b[0m\u001b[0mID\u001b[0m\u001b[1;33m,\u001b[0m \u001b[0mvalue\u001b[0m\u001b[1;33m=\u001b[0m\u001b[1;32mNone\u001b[0m\u001b[1;33m)\u001b[0m\u001b[1;33m:\u001b[0m\u001b[1;33m\u001b[0m\u001b[1;33m\u001b[0m\u001b[0m\n",
      "\u001b[1;32mD:\\Programme\\Anaconda\\lib\\site-packages\\selenium\\webdriver\\remote\\webdriver.py\u001b[0m in \u001b[0;36mexecute\u001b[1;34m(self, driver_command, params)\u001b[0m\n\u001b[0;32m    319\u001b[0m         \u001b[0mresponse\u001b[0m \u001b[1;33m=\u001b[0m \u001b[0mself\u001b[0m\u001b[1;33m.\u001b[0m\u001b[0mcommand_executor\u001b[0m\u001b[1;33m.\u001b[0m\u001b[0mexecute\u001b[0m\u001b[1;33m(\u001b[0m\u001b[0mdriver_command\u001b[0m\u001b[1;33m,\u001b[0m \u001b[0mparams\u001b[0m\u001b[1;33m)\u001b[0m\u001b[1;33m\u001b[0m\u001b[1;33m\u001b[0m\u001b[0m\n\u001b[0;32m    320\u001b[0m         \u001b[1;32mif\u001b[0m \u001b[0mresponse\u001b[0m\u001b[1;33m:\u001b[0m\u001b[1;33m\u001b[0m\u001b[1;33m\u001b[0m\u001b[0m\n\u001b[1;32m--> 321\u001b[1;33m             \u001b[0mself\u001b[0m\u001b[1;33m.\u001b[0m\u001b[0merror_handler\u001b[0m\u001b[1;33m.\u001b[0m\u001b[0mcheck_response\u001b[0m\u001b[1;33m(\u001b[0m\u001b[0mresponse\u001b[0m\u001b[1;33m)\u001b[0m\u001b[1;33m\u001b[0m\u001b[1;33m\u001b[0m\u001b[0m\n\u001b[0m\u001b[0;32m    322\u001b[0m             response['value'] = self._unwrap_value(\n\u001b[0;32m    323\u001b[0m                 response.get('value', None))\n",
      "\u001b[1;32mD:\\Programme\\Anaconda\\lib\\site-packages\\selenium\\webdriver\\remote\\errorhandler.py\u001b[0m in \u001b[0;36mcheck_response\u001b[1;34m(self, response)\u001b[0m\n\u001b[0;32m    240\u001b[0m                 \u001b[0malert_text\u001b[0m \u001b[1;33m=\u001b[0m \u001b[0mvalue\u001b[0m\u001b[1;33m[\u001b[0m\u001b[1;34m'alert'\u001b[0m\u001b[1;33m]\u001b[0m\u001b[1;33m.\u001b[0m\u001b[0mget\u001b[0m\u001b[1;33m(\u001b[0m\u001b[1;34m'text'\u001b[0m\u001b[1;33m)\u001b[0m\u001b[1;33m\u001b[0m\u001b[1;33m\u001b[0m\u001b[0m\n\u001b[0;32m    241\u001b[0m             \u001b[1;32mraise\u001b[0m \u001b[0mexception_class\u001b[0m\u001b[1;33m(\u001b[0m\u001b[0mmessage\u001b[0m\u001b[1;33m,\u001b[0m \u001b[0mscreen\u001b[0m\u001b[1;33m,\u001b[0m \u001b[0mstacktrace\u001b[0m\u001b[1;33m,\u001b[0m \u001b[0malert_text\u001b[0m\u001b[1;33m)\u001b[0m\u001b[1;33m\u001b[0m\u001b[1;33m\u001b[0m\u001b[0m\n\u001b[1;32m--> 242\u001b[1;33m         \u001b[1;32mraise\u001b[0m \u001b[0mexception_class\u001b[0m\u001b[1;33m(\u001b[0m\u001b[0mmessage\u001b[0m\u001b[1;33m,\u001b[0m \u001b[0mscreen\u001b[0m\u001b[1;33m,\u001b[0m \u001b[0mstacktrace\u001b[0m\u001b[1;33m)\u001b[0m\u001b[1;33m\u001b[0m\u001b[1;33m\u001b[0m\u001b[0m\n\u001b[0m\u001b[0;32m    243\u001b[0m \u001b[1;33m\u001b[0m\u001b[0m\n\u001b[0;32m    244\u001b[0m     \u001b[1;32mdef\u001b[0m \u001b[0m_value_or_default\u001b[0m\u001b[1;33m(\u001b[0m\u001b[0mself\u001b[0m\u001b[1;33m,\u001b[0m \u001b[0mobj\u001b[0m\u001b[1;33m,\u001b[0m \u001b[0mkey\u001b[0m\u001b[1;33m,\u001b[0m \u001b[0mdefault\u001b[0m\u001b[1;33m)\u001b[0m\u001b[1;33m:\u001b[0m\u001b[1;33m\u001b[0m\u001b[1;33m\u001b[0m\u001b[0m\n",
      "\u001b[1;31mNoSuchElementException\u001b[0m: Message: Unable to locate element: input\n"
     ]
    }
   ],
   "source": [
    "driver.get('https://www.mydealz.de/user/social/provider/google')"
   ]
  },
  {
   "cell_type": "markdown",
   "metadata": {},
   "source": [
    "## Edit Deal"
   ]
  },
  {
   "cell_type": "code",
   "execution_count": 57,
   "metadata": {},
   "outputs": [],
   "source": [
    "languages = valuable.language.unique()"
   ]
  },
  {
   "cell_type": "code",
   "execution_count": 58,
   "metadata": {},
   "outputs": [],
   "source": [
    "bold = driver.find_element_by_xpath(\"//button[@class='toolbar-btn toolbar-btn--bold space--mr-1']/span\")\n",
    "li = driver.find_element_by_xpath(\"//button[@class='toolbar-btn toolbar-btn--unorderedlist space--mr-1']/span\")\n",
    "link = driver.find_element_by_xpath(\"//button[@class='cept-linkBtn space--mr-1']/span\")\n",
    "editor = driver.find_element_by_xpath(\"//div[@class='redactor-box aGrid']/div\")\n",
    "editor.click()"
   ]
  },
  {
   "cell_type": "code",
   "execution_count": 59,
   "metadata": {},
   "outputs": [],
   "source": [
    "def list_courses(courses):\n",
    "    li.click()\n",
    "    for course in courses.itertuples():\n",
    "        if course.rating > 4.5:\n",
    "            bold.click()\n",
    "        if course.title in new_courses:\n",
    "            editor.send_keys('*neu ')\n",
    "        link.click()\n",
    "        driver.find_element_by_id('linkPopover-href').send_keys(course.link)\n",
    "        driver.find_element_by_id('linkPopover-content').send_keys(course.title)\n",
    "        driver.find_element_by_id('linkPopover-content').send_keys(Keys.RETURN)\n",
    "        if course.rating > 4.5:\n",
    "            bold.click()\n",
    "        stars = '★' * int(round(course.rating, 0)) + '☆' * (5 - int(round(course.rating, 0)))\n",
    "        num_ratings = '({} Bewertungen)'.format(int(course.num_ratings))\n",
    "        editor.send_keys(', ' + stars + ' ' + num_ratings)\n",
    "    \n",
    "        editor.send_keys(Keys.RETURN)\n",
    "        sleep(0.5)\n",
    "    editor.send_keys(Keys.RETURN)"
   ]
  },
  {
   "cell_type": "code",
   "execution_count": 60,
   "metadata": {},
   "outputs": [
    {
     "name": "stderr",
     "output_type": "stream",
     "text": [
      "D:\\Programme\\Anaconda\\lib\\site-packages\\ipykernel_launcher.py:13: UserWarning: Boolean Series key will be reindexed to match DataFrame index.\n",
      "  del sys.path[0]\n"
     ]
    }
   ],
   "source": [
    "for language in languages:\n",
    "    if len(languages) > 1:\n",
    "        bold.click()\n",
    "        editor.send_keys(language)\n",
    "        bold.click()\n",
    "        editor.send_keys(Keys.ENTER)\n",
    "\n",
    "    val_lang = valuable[valuable.language == language]\n",
    "    main_topics = val_lang.topic_0.unique()\n",
    "    for main_topic in main_topics:\n",
    "        editor.send_keys(main_topic)\n",
    "        editor.send_keys(Keys.RETURN)\n",
    "        list_courses(val_lang[valuable.topic_0 == main_topic])\n",
    "    editor.send_keys(Keys.RETURN)"
   ]
  },
  {
   "cell_type": "code",
   "execution_count": 62,
   "metadata": {},
   "outputs": [
    {
     "name": "stdout",
     "output_type": "stream",
     "text": [
      "https://www.udemy.com/course/wordpressdeveloper/?couponCode=FREEAR\n",
      "https://www.udemy.com/course/basic-bookkeeping/?couponCode=EAA7B1C697EC63217A3A\n",
      "https://www.udemy.com/course/save-on-your-taxes/?couponCode=EA50BBCF78CB0A6ECE3F\n",
      "https://www.udemy.com/course/success-forex/?couponCode=SUPERPROMO45F\n",
      "https://www.udemy.com/course/vocal-presentation-skills-from-broadcasters-hollywood-legends/?couponCode=696FFF1A1E7CB3649B04\n",
      "https://www.udemy.com/course/the-complete-udemy-instructor-mastermind-unofficial-course/?couponCode=061F7BF8E16B07D44537\n",
      "https://www.udemy.com/course/scrum-case-studies/?couponCode=120220_FREE\n",
      "https://www.udemy.com/course/eft-negotiation-success/?couponCode=065A2DA3BA771C112C6F\n",
      "https://www.udemy.com/course/outsource-mastery/?couponCode=FEBFREEOUTSOURCE\n",
      "https://www.udemy.com/course/aftereffectsmasterclass/?couponCode=FREELIMITED\n",
      "https://www.udemy.com/course/ultra-speed-3d-animation-film-making-with-plotagon/?couponCode=1FA40E18F0F4470D1118\n",
      "https://www.udemy.com/course/speed-up-how-to-work-with-photoshop-hotkeys/?couponCode=SUPERPROMO45F\n",
      "https://www.udemy.com/course/learn-video-design-with-photoshop-2020/?couponCode=TRY11FREE\n",
      "https://www.udemy.com/course/learn-graphic-design-with-photoshop-2020/?couponCode=TRY11FREE\n",
      "https://www.udemy.com/course/create-your-own-virtual-3d-events-in-vr/?couponCode=A2098D5D39B91ED6073D\n",
      "https://www.udemy.com/course/learn-app-design-with-photoshop-2020/?couponCode=TRY11FREE\n",
      "https://www.udemy.com/course/learn-mobile-design-with-photoshop-2020/?couponCode=TRY11FREE\n",
      "https://www.udemy.com/course/learn-web-design-with-photoshop-2020/?couponCode=TRY11FREE\n",
      "https://www.udemy.com/course/hacking-pos-credit-cards-techniques-and-countermeasures/?couponCode=CCWELCOME\n",
      "https://www.udemy.com/course/affiliate-marketing-facebook/?couponCode=5F8D805E426230853F68\n",
      "https://www.udemy.com/course/how-to-create-high-quality-blog-content-that-gets-shared/?couponCode=SUPERPROMO45F\n",
      "https://www.udemy.com/course/facebook-dynamic-ads/?couponCode=DIAMONDHAPPINESS\n",
      "https://www.udemy.com/course/free-traffic-online/?couponCode=SUPERPROMO45F\n",
      "https://www.udemy.com/course/fan-page/?couponCode=SUPERPROMO45F\n",
      "https://www.udemy.com/course/facebook-marketing-advanced-targeting-strategies/?couponCode=SUPERPROMO45F\n",
      "https://www.udemy.com/course/facebook-social-media/?couponCode=6FC401A7CECCD4A47A6A\n",
      "https://www.udemy.com/course/learn-to-podcast-using-your-breath/?couponCode=F1A4B4802CBB8857AAF4\n",
      "https://www.udemy.com/course/stop-being-tone-deaf/?couponCode=D68F550F774959DCAA14\n",
      "https://www.udemy.com/course/secrets-of-psychology/?couponCode=SUPERPROMO45F\n",
      "https://www.udemy.com/course/learn-to-think-creatively-like-walt-disney/?couponCode=A1022D9D92D98EAD7947\n",
      "https://www.udemy.com/course/lambda-with-functional-programming-in-java/?couponCode=FREEFOR3DAYS\n",
      "https://www.udemy.com/course/learn-powershell/?couponCode=TRY30FREE\n",
      "https://www.udemy.com/course/learn-basic-html5/?couponCode=TRY30FREE\n",
      "https://www.udemy.com/course/css-javascript-certification-course-for-beginners/?couponCode=35BC3C059B03D312A9D2\n",
      "https://www.udemy.com/course/learn-sublime-text-3/?couponCode=TRY30FREE\n",
      "https://www.udemy.com/course/learn-font-awesome/?couponCode=TRY30FREE\n",
      "https://www.udemy.com/course/learn-basic-javascript/?couponCode=TRY30FREE\n",
      "https://www.udemy.com/course/learn-basic-bootstrap-4/?couponCode=TRY30FREE\n",
      "https://www.udemy.com/course/learn-basic-css3/?couponCode=TRY30FREE\n",
      "https://www.udemy.com/course/wp-plugin-development-build-your-own-plugin/?couponCode=SUPERPROMO45F\n",
      "https://www.udemy.com/course/learn-git-bash/?couponCode=TRY30FREE\n",
      "https://www.udemy.com/course/learn-advanced-bootstrap-4/?couponCode=TRY30FREE\n",
      "https://www.udemy.com/course/learn-basic-jquery/?couponCode=TRY30FREE\n",
      "https://www.udemy.com/course/learn-basic-github/?couponCode=TRY30FREE\n",
      "https://www.udemy.com/course/learn-advanced-svg/?couponCode=TRY30FREE\n",
      "https://www.udemy.com/course/learn-domain-names/?couponCode=TRY30FREE\n",
      "https://www.udemy.com/course/learn-to-podcast-in-the-classroom/?couponCode=D155428E159FD2A35A5C\n",
      "https://www.udemy.com/course/how-to-create-an-online-course-that-sells/?couponCode=SUPERPROMO45F\n",
      "https://www.udemy.com/course/express-gre-preparation/?couponCode=FEB2020\n"
     ]
    }
   ],
   "source": [
    "for course in valuable.itertuples():\n",
    "    print(course.link)"
   ]
  },
  {
   "cell_type": "markdown",
   "metadata": {},
   "source": [
    "## Subscribe to Courses\n",
    "Login manually"
   ]
  },
  {
   "cell_type": "code",
   "execution_count": 133,
   "metadata": {},
   "outputs": [],
   "source": [
    "driver.get('https://www.udemy.com')\n",
    "driver.find_element_by_xpath(\"//button[@class='btn btn-quaternary']\").click()"
   ]
  },
  {
   "cell_type": "code",
   "execution_count": 134,
   "metadata": {},
   "outputs": [
    {
     "name": "stdout",
     "output_type": "stream",
     "text": [
      "https://www.udemy.com/course/basic-bookkeeping/?couponCode=EAA7B1C697EC63217A3A already subscribed.\n",
      "https://www.udemy.com/course/save-on-your-taxes/?couponCode=EA50BBCF78CB0A6ECE3F already subscribed.\n",
      "https://www.udemy.com/course/success-forex/?couponCode=SUPERPROMO45F already subscribed.\n",
      "https://www.udemy.com/course/vocal-presentation-skills-from-broadcasters-hollywood-legends/?couponCode=696FFF1A1E7CB3649B04 already subscribed.\n",
      "https://www.udemy.com/course/the-complete-udemy-instructor-mastermind-unofficial-course/?couponCode=061F7BF8E16B07D44537 already subscribed.\n",
      "https://www.udemy.com/course/scrum-case-studies/?couponCode=120220_FREE already subscribed.\n",
      "https://www.udemy.com/course/eft-negotiation-success/?couponCode=065A2DA3BA771C112C6F already subscribed.\n",
      "https://www.udemy.com/course/outsource-mastery/?couponCode=FEBFREEOUTSOURCE already subscribed.\n",
      "https://www.udemy.com/course/aftereffectsmasterclass/?couponCode=FREELIMITED already subscribed.\n",
      "https://www.udemy.com/course/ultra-speed-3d-animation-film-making-with-plotagon/?couponCode=1FA40E18F0F4470D1118 already subscribed.\n",
      "https://www.udemy.com/course/learn-video-design-with-photoshop-2020/?couponCode=TRY11FREE already subscribed.\n",
      "https://www.udemy.com/course/learn-graphic-design-with-photoshop-2020/?couponCode=TRY11FREE already subscribed.\n",
      "https://www.udemy.com/course/create-your-own-virtual-3d-events-in-vr/?couponCode=A2098D5D39B91ED6073D already subscribed.\n",
      "https://www.udemy.com/course/learn-app-design-with-photoshop-2020/?couponCode=TRY11FREE already subscribed.\n",
      "https://www.udemy.com/course/learn-mobile-design-with-photoshop-2020/?couponCode=TRY11FREE already subscribed.\n",
      "https://www.udemy.com/course/learn-web-design-with-photoshop-2020/?couponCode=TRY11FREE already subscribed.\n",
      "https://www.udemy.com/course/hacking-pos-credit-cards-techniques-and-countermeasures/?couponCode=CCWELCOME already subscribed.\n",
      "https://www.udemy.com/course/the-beginners-guide-to-cyber-security-2019/?couponCode=VALENTINEDAY2020 already subscribed.\n",
      "https://www.udemy.com/course/affiliate-marketing-facebook/?couponCode=5F8D805E426230853F68 already subscribed.\n",
      "https://www.udemy.com/course/how-to-create-high-quality-blog-content-that-gets-shared/?couponCode=SUPERPROMO45F already subscribed.\n",
      "https://www.udemy.com/course/free-traffic-online/?couponCode=SUPERPROMO45F already subscribed.\n",
      "https://www.udemy.com/course/facebook-dynamic-ads/?couponCode=DIAMONDHAPPINESS already subscribed.\n",
      "https://www.udemy.com/course/artificial-intelligence-in-digital-marketing-skills/?couponCode=2D82B9DDBA657BA550BA already subscribed.\n",
      "https://www.udemy.com/course/facebook-social-media/?couponCode=6FC401A7CECCD4A47A6A already subscribed.\n",
      "https://www.udemy.com/course/learn-to-podcast-using-your-breath/?couponCode=F1A4B4802CBB8857AAF4 already subscribed.\n",
      "https://www.udemy.com/course/fan-page/?couponCode=SUPERPROMO45F already subscribed.\n",
      "https://www.udemy.com/course/facebook-marketing-advanced-targeting-strategies/?couponCode=SUPERPROMO45F already subscribed.\n",
      "https://www.udemy.com/course/stop-being-tone-deaf/?couponCode=D68F550F774959DCAA14 already subscribed.\n",
      "https://www.udemy.com/course/secrets-of-psychology/?couponCode=SUPERPROMO45F already subscribed.\n",
      "https://www.udemy.com/course/become-a-new-trainer/?couponCode=FEB2020 already subscribed.\n",
      "https://www.udemy.com/course/learn-to-think-creatively-like-walt-disney/?couponCode=A1022D9D92D98EAD7947 already subscribed.\n",
      "https://www.udemy.com/course/lambda-with-functional-programming-in-java/?couponCode=FREEFOR3DAYS already subscribed.\n",
      "https://www.udemy.com/course/learn-powershell/?couponCode=TRY30FREE already subscribed.\n",
      "https://www.udemy.com/course/learn-basic-html5/?couponCode=TRY30FREE already subscribed.\n",
      "https://www.udemy.com/course/learn-basic-javascript/?couponCode=TRY30FREE already subscribed.\n",
      "https://www.udemy.com/course/learn-basic-bootstrap-4/?couponCode=TRY30FREE already subscribed.\n",
      "https://www.udemy.com/course/wp-plugin-development-build-your-own-plugin/?couponCode=SUPERPROMO45F already subscribed.\n",
      "https://www.udemy.com/course/learn-git-bash/?couponCode=TRY30FREE already subscribed.\n",
      "https://www.udemy.com/course/learn-advanced-bootstrap-4/?couponCode=TRY30FREE already subscribed.\n",
      "https://www.udemy.com/course/learn-basic-jquery/?couponCode=TRY30FREE already subscribed.\n",
      "https://www.udemy.com/course/learn-domain-names/?couponCode=TRY30FREE already subscribed.\n",
      "https://www.udemy.com/course/the-complete-html-5-course-from-scratch/?couponCode=TRY30FREE already subscribed.\n",
      "https://www.udemy.com/course/css-javascript-certification-course-for-beginners/?couponCode=35BC3C059B03D312A9D2 already subscribed.\n",
      "https://www.udemy.com/course/learn-sublime-text-3/?couponCode=TRY30FREE already subscribed.\n",
      "https://www.udemy.com/course/learn-font-awesome/?couponCode=TRY30FREE already subscribed.\n",
      "https://www.udemy.com/course/fix-googles-new-not-secure-warning-with-lets-encrypt/?couponCode=6A5707F80BE46626E6FF already subscribed.\n",
      "https://www.udemy.com/course/the-learn-javascript-course/?couponCode=TRY30FREE already subscribed.\n",
      "https://www.udemy.com/course/learn-basic-css3/?couponCode=TRY30FREE already subscribed.\n",
      "https://www.udemy.com/course/javascript-jquery-certification-course-for-beginners/?couponCode=E06FDBE02B6D04144E56 already subscribed.\n",
      "https://www.udemy.com/course/learn-front-end-development/?couponCode=TRY30FREE already subscribed.\n",
      "https://www.udemy.com/course/learn-basic-github/?couponCode=TRY30FREE already subscribed.\n",
      "https://www.udemy.com/course/learn-advanced-svg/?couponCode=TRY30FREE already subscribed.\n",
      "https://www.udemy.com/course/the-complete-css-course/?couponCode=TRY30FREE already subscribed.\n",
      "https://www.udemy.com/course/the-learn-jquery-course/?couponCode=TRY30FREE already subscribed.\n",
      "https://www.udemy.com/course/learn-to-podcast-in-the-classroom/?couponCode=D155428E159FD2A35A5C already subscribed.\n",
      "https://www.udemy.com/course/how-to-create-an-online-course-that-sells/?couponCode=SUPERPROMO45F already subscribed.\n",
      "https://www.udemy.com/course/express-gre-preparation/?couponCode=FEB2020 already subscribed.\n"
     ]
    }
   ],
   "source": [
    "for link in valuable.link:\n",
    "    driver.get(link)\n",
    "    try:\n",
    "        sleep(randint(4, 10))\n",
    "        btn = driver.find_element_by_xpath(\"//button[@data-purpose='buy-this-course-button']\")\n",
    "        if btn.text == 'Jetzt einschreiben':\n",
    "            btn.click()\n",
    "            sleep(6)\n",
    "        else:\n",
    "            print(link, 'already subscribed.')\n",
    "    except:\n",
    "        print(link, 'already subscribed.')"
   ]
  },
  {
   "cell_type": "code",
   "execution_count": null,
   "metadata": {},
   "outputs": [],
   "source": []
  }
 ],
 "metadata": {
  "kernelspec": {
   "display_name": "Python 3",
   "language": "python",
   "name": "python3"
  },
  "language_info": {
   "codemirror_mode": {
    "name": "ipython",
    "version": 3
   },
   "file_extension": ".py",
   "mimetype": "text/x-python",
   "name": "python",
   "nbconvert_exporter": "python",
   "pygments_lexer": "ipython3",
   "version": "3.7.4"
  }
 },
 "nbformat": 4,
 "nbformat_minor": 2
}
