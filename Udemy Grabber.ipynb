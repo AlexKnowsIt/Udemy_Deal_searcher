{
 "cells": [
  {
   "cell_type": "markdown",
   "metadata": {},
   "source": [
    "# Udemy Grabber"
   ]
  },
  {
   "cell_type": "code",
   "execution_count": 58,
   "metadata": {},
   "outputs": [],
   "source": [
    "import requests\n",
    "from requests.utils import urlparse\n",
    "from bs4 import BeautifulSoup, NavigableString\n",
    "from bs4.element import Tag\n",
    "import pandas as pd\n",
    "from random import randint\n",
    "from time import sleep\n",
    "import re\n",
    "from datetime import datetime, timedelta\n",
    "from urllib.parse import parse_qs, unquote\n",
    "import json"
   ]
  },
  {
   "cell_type": "code",
   "execution_count": 2,
   "metadata": {},
   "outputs": [],
   "source": [
    "headers = requests.utils.default_headers()\n",
    "headers['User-Agent'] = 'Mozilla/5.0 (X11; Linux x86_64) AppleWebKit/537.36 (KHTML, like Gecko) Chrome/56.0.2924.87 Safari/537.36'\n",
    "headers['Accept'] = 'text/html,application/xhtml+xml,application/xml;q=0.9,*/*;q=0.8'\n",
    "headers['Accept-Encoding'] = 'gzip, deflate'\n",
    "headers['Upgrade-Insecure-Requests'] = '1'\n",
    "headers['Accept-Language'] = 'de;q=0.7'\n",
    "\n",
    "sess = requests.Session()\n",
    "sess.headers.update(headers)"
   ]
  },
  {
   "cell_type": "markdown",
   "metadata": {},
   "source": [
    "## Gather Courses"
   ]
  },
  {
   "cell_type": "code",
   "execution_count": 10,
   "metadata": {},
   "outputs": [],
   "source": [
    "def grab(url: str, timeout=10):\n",
    "    return BeautifulSoup(sess.get(url, timeout=timeout).text, 'lxml')"
   ]
  },
  {
   "cell_type": "markdown",
   "metadata": {},
   "source": [
    "### yofreesamples.com"
   ]
  },
  {
   "cell_type": "code",
   "execution_count": 4,
   "metadata": {},
   "outputs": [],
   "source": [
    "soup = grab('https://yofreesamples.com/courses/free-discounted-udemy-courses-list/')\n",
    "freesamples_courses = set(course['href'] for course in soup.find_all('a', class_='course_title', href=True))"
   ]
  },
  {
   "cell_type": "code",
   "execution_count": 5,
   "metadata": {},
   "outputs": [
    {
     "name": "stdout",
     "output_type": "stream",
     "text": [
      "Found 50 courses.\n"
     ]
    }
   ],
   "source": [
    "print('Found {} courses.'.format(len(freesamples_courses)))"
   ]
  },
  {
   "cell_type": "markdown",
   "metadata": {},
   "source": [
    "### jucktion.com"
   ]
  },
  {
   "cell_type": "code",
   "execution_count": 6,
   "metadata": {},
   "outputs": [],
   "source": [
    "jucktion = set()\n",
    "\n",
    "for i in range(0, 7, 2):\n",
    "    soup = grab('https://www.jucktion.com/forum/udemy-coupon/{}0'.format(i))\n",
    "    for link in soup.find_all('td', class_='subject windowbg2'):\n",
    "        l = link.find('a', href=True)['href']\n",
    "        jucktion.add(l[:l.find('?PHP')])\n",
    "\n",
    "jucktion_courses = set([grab(course).find('a', class_='bbc_link')['href'] for course in jucktion])"
   ]
  },
  {
   "cell_type": "code",
   "execution_count": 7,
   "metadata": {},
   "outputs": [
    {
     "name": "stdout",
     "output_type": "stream",
     "text": [
      "Found 44 courses.\n"
     ]
    }
   ],
   "source": [
    "print('Found {} courses.'.format(len(jucktion_courses)))"
   ]
  },
  {
   "cell_type": "markdown",
   "metadata": {},
   "source": [
    "### bez-postovneho.cz"
   ]
  },
  {
   "cell_type": "code",
   "execution_count": 11,
   "metadata": {},
   "outputs": [],
   "source": [
    "bez = set()\n",
    "bez_courses = set()\n",
    "for i in range(1, 6):\n",
    "    soup = grab('https://bez-postovneho.cz/?page={}'.format(i))\n",
    "    links = soup.find_all(href=re.compile(\"free-udemy-course/\"))\n",
    "    bez = bez.union([link['href'] for link in links])\n",
    "\n",
    "for course in bez:\n",
    "    soup = grab(course, timeout=15)\n",
    "    url = soup.find('a', class_='btn btn-success', href=True)['href']\n",
    "    if url.find('couponCode') > -1:\n",
    "        bez_courses.add(url)"
   ]
  },
  {
   "cell_type": "code",
   "execution_count": 12,
   "metadata": {},
   "outputs": [
    {
     "name": "stdout",
     "output_type": "stream",
     "text": [
      "Found 45 courses.\n"
     ]
    }
   ],
   "source": [
    "print('Found {} courses.'.format(len(bez_courses)))"
   ]
  },
  {
   "cell_type": "markdown",
   "metadata": {},
   "source": [
    "### reddit"
   ]
  },
  {
   "cell_type": "code",
   "execution_count": 13,
   "metadata": {},
   "outputs": [],
   "source": [
    "reddit_courses = set()\n",
    "regex = re.compile(\"http[s]*://www.udemy.com/course/[\\w\\d\\-]{5,}/[\\w?\\d/]*couponCode=[\\w]{3,}\")\n",
    "\n",
    "page = sess.get('https://www.reddit.com/r/Udemy/.json')\n",
    "for article in page.json()['data']['children']:\n",
    "    if datetime.utcfromtimestamp(article['data']['created_utc']) > (datetime.now() - timedelta(10)):\n",
    "        text = article['data']['selftext']\n",
    "        urls = re.findall(regex, text)\n",
    "        if urls:\n",
    "            reddit_courses = reddit_courses.union(urls)"
   ]
  },
  {
   "cell_type": "code",
   "execution_count": 14,
   "metadata": {},
   "outputs": [
    {
     "name": "stdout",
     "output_type": "stream",
     "text": [
      "Found 7 courses.\n"
     ]
    }
   ],
   "source": [
    "print('Found {} courses.'.format(len(reddit_courses)))"
   ]
  },
  {
   "cell_type": "markdown",
   "metadata": {},
   "source": [
    "### dsmenders"
   ]
  },
  {
   "cell_type": "code",
   "execution_count": 15,
   "metadata": {},
   "outputs": [],
   "source": [
    "dsmenders = set()\n",
    "dsmenders_courses = set()\n",
    "for i in range(1, 6):\n",
    "    soup = grab('https://tech.dsmenders.com/category/free-online-courses/page/{}/'.format(i))\n",
    "    links = soup.find_all('h2', 'entry-title')\n",
    "    dsmenders = dsmenders.union([link.find('a', href=True)['href'] for link in links])\n",
    "\n",
    "for course in dsmenders:\n",
    "    soup = grab(course)\n",
    "    url = soup.find('a', href=True, target='_blank', class_=False, style=True)\n",
    "    if url and url['href'].find('couponCode') > -1:\n",
    "        dsmenders_courses.add(url['href'])"
   ]
  },
  {
   "cell_type": "code",
   "execution_count": 16,
   "metadata": {},
   "outputs": [
    {
     "name": "stdout",
     "output_type": "stream",
     "text": [
      "Found 28 courses.\n"
     ]
    }
   ],
   "source": [
    "print('Found {} courses.'.format(len(dsmenders_courses)))"
   ]
  },
  {
   "cell_type": "markdown",
   "metadata": {},
   "source": [
    "### Smartbro"
   ]
  },
  {
   "cell_type": "code",
   "execution_count": 17,
   "metadata": {},
   "outputs": [],
   "source": [
    "smartbro_courses = set()\n",
    "soup = grab('https://smartybro.com/category/udemy-coupon-100-off/')\n",
    "links = soup.find_all('a', href=re.compile(\"https://smartybro.com/202\"))\n",
    "smartbro = set([link['href'][:link['href'].rfind('/')] for link in links])\n",
    "\n",
    "for course in smartbro:\n",
    "    soup = grab(course)\n",
    "    tag = soup.find('a', href=re.compile('udemy.com/course/[\\S]+/?couponCode='))\n",
    "    if tag:\n",
    "        l = tag['href']\n",
    "        smartbro_courses.add(l[:l.find('&')])"
   ]
  },
  {
   "cell_type": "code",
   "execution_count": 18,
   "metadata": {},
   "outputs": [
    {
     "name": "stdout",
     "output_type": "stream",
     "text": [
      "Found 5 courses.\n"
     ]
    }
   ],
   "source": [
    "print('Found {} courses.'.format(len(smartbro_courses)))"
   ]
  },
  {
   "cell_type": "markdown",
   "metadata": {},
   "source": [
    "### couponscorpion"
   ]
  },
  {
   "cell_type": "code",
   "execution_count": 19,
   "metadata": {},
   "outputs": [],
   "source": [
    "scorpion = set()\n",
    "scorpion_courses = set()\n",
    "for i in range(1, 10):\n",
    "    soup = grab('https://couponscorpion.com/page/{}/'.format(i))\n",
    "    for article in soup.find_all('div', 'info_in_dealgrid'):\n",
    "        if article.find('span', 'grid_onsale').text == '100% OFF':\n",
    "            scorpion.add(article.find('a', href=True, class_=False)['href'])\n",
    "\n",
    "regex = re.compile(\"[\\w]{20,}%3D&s=[\\w]+&n=[\\w]+\")\n",
    "for course in scorpion:\n",
    "    soup = grab(course)\n",
    "    for script in soup.find_all('script', {'type':False, 'data-cfasync':False, 'src':False}):\n",
    "        token = re.findall(regex, script.text)\n",
    "        if token:\n",
    "            url = sess.get('https://couponscorpion.com/scripts/udemy/out.php?go=' + token[0]).url\n",
    "            coupon = parse_qs(urlparse(url).query)['couponCode']\n",
    "            scorpion_courses.add(url[:url.find('?')] + '?couponCode=' + str(coupon[0]))"
   ]
  },
  {
   "cell_type": "code",
   "execution_count": 20,
   "metadata": {},
   "outputs": [
    {
     "name": "stdout",
     "output_type": "stream",
     "text": [
      "Found 28 courses.\n"
     ]
    }
   ],
   "source": [
    "print('Found {} courses.'.format(len(scorpion_courses)))"
   ]
  },
  {
   "cell_type": "markdown",
   "metadata": {},
   "source": [
    "### discudemy"
   ]
  },
  {
   "cell_type": "code",
   "execution_count": 21,
   "metadata": {},
   "outputs": [],
   "source": [
    "discudemy = set()\n",
    "discudemy_courses = set()\n",
    "\n",
    "for i in range(1, 6):\n",
    "    soup = grab('https://www.discudemy.com/all/{}'.format(i))\n",
    "    for div in soup.find_all('div', 'content'):\n",
    "        if div.find('div', 'header'):\n",
    "            if div.find('div', 'meta').text.find('->') > 0:\n",
    "                discudemy.add(div.find('a', href=True)['href'])\n",
    "\n",
    "regex = re.compile(\"/[\\w\\d\\-]+/\")\n",
    "for course in discudemy:\n",
    "    soup = grab(regex.sub('/go/', course))\n",
    "    discudemy_courses.add(soup.find('a', href=True, class_=False, target='_blank')['href'])"
   ]
  },
  {
   "cell_type": "code",
   "execution_count": 22,
   "metadata": {},
   "outputs": [
    {
     "name": "stdout",
     "output_type": "stream",
     "text": [
      "Found 30 courses.\n"
     ]
    }
   ],
   "source": [
    "print('Found {} courses.'.format(len(discudemy_courses)))"
   ]
  },
  {
   "cell_type": "markdown",
   "metadata": {},
   "source": [
    "### Facebook"
   ]
  },
  {
   "cell_type": "code",
   "execution_count": 23,
   "metadata": {},
   "outputs": [],
   "source": [
    "groups = ['https://www.facebook.com/groups/FreeUdemyCoursesOnline/',\n",
    "          'https://www.facebook.com/groups/freeudemycouponscourses/',\n",
    "          'https://www.facebook.com/groups/1602890986642463/',\n",
    "          'https://www.facebook.com/groups/FreeUdemyCoursesOnline/',\n",
    "          'https://www.facebook.com/Udemy.Bargains/',\n",
    "          'https://www.facebook.com/FreeOnlineCoursesCoupon/',\n",
    "          'https://www.facebook.com/groups/DiscountedUdemyCoursesOnline',\n",
    "          'https://web.facebook.com/groups/677040975746787',\n",
    "          'https://web.facebook.com/groups/eLearningTrainingCourses',\n",
    "          'https://web.facebook.com/groups/OnlineCoursesUdemy/',\n",
    "          'https://web.facebook.com/groups/427365844137526',\n",
    "          'https://web.facebook.com/groups/BestUdemyCourses',\n",
    "          'https://web.facebook.com/groups/freecoursesudemy',\n",
    "          'https://web.facebook.com/groups/1858168261178187',\n",
    "          'https://web.facebook.com/groups/freeanddiscountedudemycoursecoupons',\n",
    "         ]"
   ]
  },
  {
   "cell_type": "code",
   "execution_count": 24,
   "metadata": {},
   "outputs": [],
   "source": [
    "facebook = set()\n",
    "regex = re.compile('https%3A%2F%2Fwww.udemy.com%2Fcourse%2F[\\S]+couponCode[=|%3D][\\w-]{3,}')\n",
    "for group in groups:\n",
    "    page = sess.get(group).text\n",
    "    for link in re.findall(regex, page):\n",
    "        facebook.add(unquote(link))\n",
    "    sleep(randint(1,2))"
   ]
  },
  {
   "cell_type": "code",
   "execution_count": 25,
   "metadata": {},
   "outputs": [
    {
     "name": "stdout",
     "output_type": "stream",
     "text": [
      "Found 97 courses.\n"
     ]
    }
   ],
   "source": [
    "print('Found {} courses.'.format(len(facebook)))"
   ]
  },
  {
   "cell_type": "markdown",
   "metadata": {},
   "source": [
    "### Merge Courses"
   ]
  },
  {
   "cell_type": "code",
   "execution_count": 26,
   "metadata": {},
   "outputs": [],
   "source": [
    "udemy = scorpion_courses | reddit_courses | bez_courses | freesamples_courses | discudemy_courses | facebook | smartbro_courses | dsmenders_courses | jucktion_courses"
   ]
  },
  {
   "cell_type": "code",
   "execution_count": 27,
   "metadata": {},
   "outputs": [
    {
     "name": "stdout",
     "output_type": "stream",
     "text": [
      "Found 185 courses.\n"
     ]
    }
   ],
   "source": [
    "print('Found {} courses.'.format(len(udemy)))"
   ]
  },
  {
   "cell_type": "markdown",
   "metadata": {},
   "source": [
    "## Analyse\n",
    "Find courses on Udemy, verify that they are free but not permanently, and crawl metadata. Use `sleep` to prevent Udemy from blocking us."
   ]
  },
  {
   "cell_type": "code",
   "execution_count": 81,
   "metadata": {},
   "outputs": [],
   "source": [
    "error_set = set()\n",
    "def get_course_info(link):\n",
    "    soup = grab(link).find('body')\n",
    "    try:\n",
    "        parsed = json.loads(soup.find('script', {'type':'application/ld+json'}).text)\n",
    "    except AttributeError:\n",
    "        print('Could not parse', link)\n",
    "        return None\n",
    "\n",
    "    meta = parsed[0]\n",
    "    # currently free but not permanently\n",
    "\n",
    "    try:\n",
    "        price = soup.find('span', 'udlite-sr-only').next.next.next\n",
    "    except:\n",
    "        print('Course invalid:', link)\n",
    "        return None\n",
    "\n",
    "    if isinstance(price, NavigableString):\n",
    "        price = price\n",
    "    elif isinstance(price, Tag):\n",
    "        price = price.text\n",
    "    else:\n",
    "        print(type(price))\n",
    "        print(soup.find('span', 'udlite-sr-only').next.next)\n",
    "\n",
    "    if price == 'Kostenlos':\n",
    "        free = True\n",
    "    elif price.find('€') > -1:\n",
    "        free = False\n",
    "    else:\n",
    "        print('price not found')\n",
    "        free = False\n",
    "\n",
    "    if free and not meta['isAccessibleForFree']:\n",
    "        rating, num_ratings, title, topics, language = parse_meta(meta, parsed)\n",
    "\n",
    "        expiration = 99\n",
    "        try:\n",
    "            duration_text = soup.find('span', {'data-purpose': 'video-content-length'}).text.strip()\n",
    "            duration = duration_text[:duration_text.rfind(' ')]\n",
    "            expiration_text = soup.find('svg', {'aria-label':'alarm'}).next.next.next.next.text\n",
    "\n",
    "            if not expiration_text.find('Tage') > -1:\n",
    "                if expiration_text.find('Stunden') > -1:\n",
    "                    expiration = int(expiration_text[:expiration_text.find('Stunden')])\n",
    "                elif expiration_text.find('Minuten') > -1:\n",
    "                    expiration = 0\n",
    "        except AttributeError:\n",
    "            # error when the duration or expiration element is missing\n",
    "            # print('duration or expiration missing for', link)\n",
    "            duration = 'fehlt'\n",
    "\n",
    "        data = {'title': title,\n",
    "                'link': link,\n",
    "                'rating': rating,\n",
    "                'num_ratings': num_ratings,\n",
    "                'language': language,\n",
    "                'duration': duration,\n",
    "                'expiring': expiration\n",
    "               }\n",
    "        tops = dict(zip(['topic_' + str(t) for t in list(range(len(topics)))], topics))\n",
    "        return {**data, **tops}\n",
    "\n",
    "def parse_meta(meta, parsed):\n",
    "    if 'aggregateRating' in meta.keys():\n",
    "            rating = float(meta['aggregateRating']['ratingValue'])\n",
    "            num_ratings = int(meta['aggregateRating']['ratingCount'])\n",
    "    else:\n",
    "        rating = 0\n",
    "        num_ratings = 0\n",
    "\n",
    "    title = meta['name']\n",
    "    topics = [bc['name'] for bc in parsed[-1]['itemListElement']]\n",
    "    language = meta['inLanguage']\n",
    "\n",
    "    return rating, num_ratings, title, topics, language"
   ]
  },
  {
   "cell_type": "code",
   "execution_count": 82,
   "metadata": {},
   "outputs": [],
   "source": [
    "day_before = pd.read_csv('./udemy-courses/2020-02-26 22-50.csv')\n",
    "old_courses = pd.read_csv('./udemy-courses/2020-02-25 23-08.csv')"
   ]
  },
  {
   "cell_type": "code",
   "execution_count": 83,
   "metadata": {
    "scrolled": true
   },
   "outputs": [
    {
     "name": "stdout",
     "output_type": "stream",
     "text": [
      "Course invalid: https://www.udemy.com/course/network-attacks-and-security/?couponCode=1_LAKH_FREE\n",
      "Could not parse https://www.udemy.com/course/microsoft-power-bi-latest-2020-beginner-to-expert-modules/?couponCode=N2M3B1\n",
      "Course invalid: https://www.udemy.com/course/wi-fi-hacking-with-kali/?couponCode=1_LAKH_FREE_\n",
      "Course invalid: https://www.udemy.com/course/xss-cross-site-scripting/?couponCode=1_LAKH_FREE\n"
     ]
    }
   ],
   "source": [
    "df = pd.DataFrame(columns=['title', 'link', 'rating', 'num_ratings', 'language',\n",
    "                           'duration', 'topic_0', 'topic_1', 'topic_2', 'expiring'])\n",
    "\n",
    "for link in set(day_before.link).union(udemy):\n",
    "    result = get_course_info(link)\n",
    "    df = df.append(result, ignore_index=True)\n",
    "    sleep(randint(1,2))"
   ]
  },
  {
   "cell_type": "code",
   "execution_count": 84,
   "metadata": {},
   "outputs": [
    {
     "data": {
      "text/plain": [
       "set()"
      ]
     },
     "execution_count": 84,
     "metadata": {},
     "output_type": "execute_result"
    }
   ],
   "source": [
    "error_set"
   ]
  },
  {
   "cell_type": "code",
   "execution_count": 86,
   "metadata": {},
   "outputs": [],
   "source": [
    "#for link in list(error_set):\n",
    "#    df = df.append(get_course_info(link), ignore_index=True)\n",
    "#    sleep(randint(1,2))"
   ]
  },
  {
   "cell_type": "markdown",
   "metadata": {},
   "source": [
    "## Find valuable Courses with high rating"
   ]
  },
  {
   "cell_type": "code",
   "execution_count": 87,
   "metadata": {},
   "outputs": [],
   "source": [
    "valuable = df[(df.rating > 3) & (df.num_ratings > 8)].sort_values(by=['language', 'topic_0', 'topic_1'])"
   ]
  },
  {
   "cell_type": "code",
   "execution_count": 88,
   "metadata": {
    "scrolled": false
   },
   "outputs": [
    {
     "data": {
      "text/html": [
       "<div>\n",
       "<style scoped>\n",
       "    .dataframe tbody tr th:only-of-type {\n",
       "        vertical-align: middle;\n",
       "    }\n",
       "\n",
       "    .dataframe tbody tr th {\n",
       "        vertical-align: top;\n",
       "    }\n",
       "\n",
       "    .dataframe thead th {\n",
       "        text-align: right;\n",
       "    }\n",
       "</style>\n",
       "<table border=\"1\" class=\"dataframe\">\n",
       "  <thead>\n",
       "    <tr style=\"text-align: right;\">\n",
       "      <th></th>\n",
       "      <th>title</th>\n",
       "      <th>link</th>\n",
       "      <th>rating</th>\n",
       "      <th>num_ratings</th>\n",
       "      <th>language</th>\n",
       "      <th>duration</th>\n",
       "      <th>topic_0</th>\n",
       "      <th>topic_1</th>\n",
       "      <th>topic_2</th>\n",
       "      <th>expiring</th>\n",
       "    </tr>\n",
       "  </thead>\n",
       "  <tbody>\n",
       "    <tr>\n",
       "      <th>108</th>\n",
       "      <td>Wie Du Ein Erfolgreiches CPA Marketing Busines...</td>\n",
       "      <td>https://www.udemy.com/course/cpa-online-market...</td>\n",
       "      <td>3.8</td>\n",
       "      <td>50</td>\n",
       "      <td>de</td>\n",
       "      <td>4,5 Stunden</td>\n",
       "      <td>Business</td>\n",
       "      <td>Selbstständigkeit</td>\n",
       "      <td>CPA-Marketing</td>\n",
       "      <td>19</td>\n",
       "    </tr>\n",
       "    <tr>\n",
       "      <th>47</th>\n",
       "      <td>Der komplette Listenaufbau-Kurs im eMail Marke...</td>\n",
       "      <td>https://www.udemy.com/course/listenaufbau-emai...</td>\n",
       "      <td>4.0</td>\n",
       "      <td>50</td>\n",
       "      <td>de</td>\n",
       "      <td>8,5 Stunden</td>\n",
       "      <td>Marketing</td>\n",
       "      <td>Digitales Marketing</td>\n",
       "      <td>List-Building</td>\n",
       "      <td>19</td>\n",
       "    </tr>\n",
       "    <tr>\n",
       "      <th>18</th>\n",
       "      <td>Data Visualization in Excel: All Excel Charts ...</td>\n",
       "      <td>https://www.udemy.com/course/data-visualizatio...</td>\n",
       "      <td>4.3</td>\n",
       "      <td>30</td>\n",
       "      <td>en</td>\n",
       "      <td>4,5 Stunden</td>\n",
       "      <td>Business</td>\n",
       "      <td>Daten &amp; Analyse</td>\n",
       "      <td>Excel-Diagramme</td>\n",
       "      <td>17</td>\n",
       "    </tr>\n",
       "    <tr>\n",
       "      <th>96</th>\n",
       "      <td>Stock Options Day Trading Mindset for Success</td>\n",
       "      <td>https://www.udemy.com/course/stock-options-day...</td>\n",
       "      <td>3.7</td>\n",
       "      <td>59</td>\n",
       "      <td>en</td>\n",
       "      <td>4,5 Stunden</td>\n",
       "      <td>Business</td>\n",
       "      <td>Finanzen</td>\n",
       "      <td>Aktienhandel</td>\n",
       "      <td>99</td>\n",
       "    </tr>\n",
       "    <tr>\n",
       "      <th>78</th>\n",
       "      <td>Transformational Leadership - Leadership Cours...</td>\n",
       "      <td>https://www.udemy.com/course/transformational-...</td>\n",
       "      <td>4.0</td>\n",
       "      <td>95</td>\n",
       "      <td>en</td>\n",
       "      <td>5 Stunden</td>\n",
       "      <td>Business</td>\n",
       "      <td>Management</td>\n",
       "      <td>Führung</td>\n",
       "      <td>19</td>\n",
       "    </tr>\n",
       "    <tr>\n",
       "      <th>...</th>\n",
       "      <td>...</td>\n",
       "      <td>...</td>\n",
       "      <td>...</td>\n",
       "      <td>...</td>\n",
       "      <td>...</td>\n",
       "      <td>...</td>\n",
       "      <td>...</td>\n",
       "      <td>...</td>\n",
       "      <td>...</td>\n",
       "      <td>...</td>\n",
       "    </tr>\n",
       "    <tr>\n",
       "      <th>83</th>\n",
       "      <td>10 Product Creation Hacks That Work In 2020</td>\n",
       "      <td>https://www.udemy.com/course/10-product-creati...</td>\n",
       "      <td>3.9</td>\n",
       "      <td>38</td>\n",
       "      <td>en</td>\n",
       "      <td>32 Min.</td>\n",
       "      <td>Wissenschaft &amp; Lehre</td>\n",
       "      <td>Online-Unterricht</td>\n",
       "      <td>Online-Kurs-Erstellung</td>\n",
       "      <td>19</td>\n",
       "    </tr>\n",
       "    <tr>\n",
       "      <th>16</th>\n",
       "      <td>Multiple Choice Questions- Civil Engineering</td>\n",
       "      <td>https://www.udemy.com/course/basic-civil-engin...</td>\n",
       "      <td>4.1</td>\n",
       "      <td>9</td>\n",
       "      <td>en</td>\n",
       "      <td>fehlt</td>\n",
       "      <td>Wissenschaft &amp; Lehre</td>\n",
       "      <td>Technische Wissenschaften</td>\n",
       "      <td>Bauwesen</td>\n",
       "      <td>99</td>\n",
       "    </tr>\n",
       "    <tr>\n",
       "      <th>98</th>\n",
       "      <td>Aprende a programar con Go (Golang)</td>\n",
       "      <td>https://www.udemy.com/course/aprende-a-program...</td>\n",
       "      <td>4.3</td>\n",
       "      <td>223</td>\n",
       "      <td>es</td>\n",
       "      <td>27,5 Stunden</td>\n",
       "      <td>Programmierung</td>\n",
       "      <td>Programmiersprachen</td>\n",
       "      <td>Programmierung (Grundlagen)</td>\n",
       "      <td>99</td>\n",
       "    </tr>\n",
       "    <tr>\n",
       "      <th>94</th>\n",
       "      <td>Aprenda a fazer o melhor Podcast com Power Pod...</td>\n",
       "      <td>https://www.udemy.com/course/learn-podcasting-...</td>\n",
       "      <td>4.3</td>\n",
       "      <td>9</td>\n",
       "      <td>pt</td>\n",
       "      <td>3 Stunden</td>\n",
       "      <td>Marketing</td>\n",
       "      <td>Social-Media-Marketing</td>\n",
       "      <td>Podcasts</td>\n",
       "      <td>99</td>\n",
       "    </tr>\n",
       "    <tr>\n",
       "      <th>82</th>\n",
       "      <td>Nasıl ISO 45001 Baş Denetçisi Olunur?</td>\n",
       "      <td>https://www.udemy.com/course/iso45001-basdenet...</td>\n",
       "      <td>3.6</td>\n",
       "      <td>38</td>\n",
       "      <td>tr</td>\n",
       "      <td>44 Min.</td>\n",
       "      <td>Business</td>\n",
       "      <td>Management</td>\n",
       "      <td>ISO 45001</td>\n",
       "      <td>99</td>\n",
       "    </tr>\n",
       "  </tbody>\n",
       "</table>\n",
       "<p>72 rows × 10 columns</p>\n",
       "</div>"
      ],
      "text/plain": [
       "                                                 title  \\\n",
       "108  Wie Du Ein Erfolgreiches CPA Marketing Busines...   \n",
       "47   Der komplette Listenaufbau-Kurs im eMail Marke...   \n",
       "18   Data Visualization in Excel: All Excel Charts ...   \n",
       "96       Stock Options Day Trading Mindset for Success   \n",
       "78   Transformational Leadership - Leadership Cours...   \n",
       "..                                                 ...   \n",
       "83         10 Product Creation Hacks That Work In 2020   \n",
       "16        Multiple Choice Questions- Civil Engineering   \n",
       "98                 Aprende a programar con Go (Golang)   \n",
       "94   Aprenda a fazer o melhor Podcast com Power Pod...   \n",
       "82               Nasıl ISO 45001 Baş Denetçisi Olunur?   \n",
       "\n",
       "                                                  link  rating num_ratings  \\\n",
       "108  https://www.udemy.com/course/cpa-online-market...     3.8          50   \n",
       "47   https://www.udemy.com/course/listenaufbau-emai...     4.0          50   \n",
       "18   https://www.udemy.com/course/data-visualizatio...     4.3          30   \n",
       "96   https://www.udemy.com/course/stock-options-day...     3.7          59   \n",
       "78   https://www.udemy.com/course/transformational-...     4.0          95   \n",
       "..                                                 ...     ...         ...   \n",
       "83   https://www.udemy.com/course/10-product-creati...     3.9          38   \n",
       "16   https://www.udemy.com/course/basic-civil-engin...     4.1           9   \n",
       "98   https://www.udemy.com/course/aprende-a-program...     4.3         223   \n",
       "94   https://www.udemy.com/course/learn-podcasting-...     4.3           9   \n",
       "82   https://www.udemy.com/course/iso45001-basdenet...     3.6          38   \n",
       "\n",
       "    language      duration               topic_0                    topic_1  \\\n",
       "108       de   4,5 Stunden              Business          Selbstständigkeit   \n",
       "47        de   8,5 Stunden             Marketing        Digitales Marketing   \n",
       "18        en   4,5 Stunden              Business            Daten & Analyse   \n",
       "96        en   4,5 Stunden              Business                   Finanzen   \n",
       "78        en     5 Stunden              Business                 Management   \n",
       "..       ...           ...                   ...                        ...   \n",
       "83        en       32 Min.  Wissenschaft & Lehre          Online-Unterricht   \n",
       "16        en         fehlt  Wissenschaft & Lehre  Technische Wissenschaften   \n",
       "98        es  27,5 Stunden        Programmierung        Programmiersprachen   \n",
       "94        pt     3 Stunden             Marketing     Social-Media-Marketing   \n",
       "82        tr       44 Min.              Business                 Management   \n",
       "\n",
       "                         topic_2 expiring  \n",
       "108                CPA-Marketing       19  \n",
       "47                 List-Building       19  \n",
       "18               Excel-Diagramme       17  \n",
       "96                  Aktienhandel       99  \n",
       "78                       Führung       19  \n",
       "..                           ...      ...  \n",
       "83        Online-Kurs-Erstellung       19  \n",
       "16                      Bauwesen       99  \n",
       "98   Programmierung (Grundlagen)       99  \n",
       "94                      Podcasts       99  \n",
       "82                     ISO 45001       99  \n",
       "\n",
       "[72 rows x 10 columns]"
      ]
     },
     "execution_count": 88,
     "metadata": {},
     "output_type": "execute_result"
    }
   ],
   "source": [
    "valuable"
   ]
  },
  {
   "cell_type": "code",
   "execution_count": 89,
   "metadata": {},
   "outputs": [],
   "source": [
    "path = datetime.now().strftime('%Y-%m-%d %H-%M')\n",
    "valuable.to_csv('./udemy-courses/' + path + '.csv')"
   ]
  },
  {
   "cell_type": "code",
   "execution_count": 90,
   "metadata": {},
   "outputs": [],
   "source": [
    "yesterdays_courses = [course.title for course in day_before.itertuples() if not course.title in list(old_courses.title)]\n",
    "new_courses = [course.title for course in valuable.itertuples() if not course.title in list(day_before.title)]"
   ]
  },
  {
   "cell_type": "code",
   "execution_count": 91,
   "metadata": {},
   "outputs": [],
   "source": [
    "languages = valuable.language.unique()"
   ]
  },
  {
   "cell_type": "code",
   "execution_count": 92,
   "metadata": {},
   "outputs": [
    {
     "name": "stdout",
     "output_type": "stream",
     "text": [
      "['de' 'en' 'es' 'pt' 'tr']\n"
     ]
    }
   ],
   "source": [
    "print(languages)"
   ]
  },
  {
   "cell_type": "markdown",
   "metadata": {},
   "source": [
    "## Edit Deal\n",
    "* login to mydealz\n",
    "* manually open the deal and delete the old list\n",
    "* run script to create a new list"
   ]
  },
  {
   "cell_type": "code",
   "execution_count": 94,
   "metadata": {},
   "outputs": [],
   "source": [
    "from selenium.webdriver import Firefox\n",
    "from selenium.webdriver.common.keys import Keys"
   ]
  },
  {
   "cell_type": "code",
   "execution_count": 95,
   "metadata": {},
   "outputs": [],
   "source": [
    "driver = Firefox()"
   ]
  },
  {
   "cell_type": "code",
   "execution_count": 96,
   "metadata": {},
   "outputs": [],
   "source": [
    "driver.get('https://www.mydealz.de/user/social/provider/google')"
   ]
  },
  {
   "cell_type": "code",
   "execution_count": 97,
   "metadata": {},
   "outputs": [],
   "source": [
    "bold = driver.find_element_by_xpath(\"//button[@class='toolbar-btn toolbar-btn--bold space--mr-1']/span\")\n",
    "li = driver.find_element_by_xpath(\"//button[@class='toolbar-btn toolbar-btn--unorderedlist space--mr-1']/span\")\n",
    "link = driver.find_element_by_xpath(\"//button[@class='cept-linkBtn space--mr-1']/span\")\n",
    "editor = driver.find_element_by_xpath(\"//div[@class='redactor-box aGrid']/div\")\n",
    "editor.click()\n",
    "editor.send_keys(Keys.CONTROL, Keys.END)"
   ]
  },
  {
   "cell_type": "code",
   "execution_count": 98,
   "metadata": {},
   "outputs": [],
   "source": [
    "lang = {'de': 'Deutsch',\n",
    "        'en': 'Englisch',\n",
    "        'fr': 'Französisch',\n",
    "        'es': 'Spanisch',\n",
    "        'tr': 'Türkisch',\n",
    "        'pt': 'Portugiesisch'}"
   ]
  },
  {
   "cell_type": "code",
   "execution_count": 99,
   "metadata": {},
   "outputs": [],
   "source": [
    "def list_courses(courses):\n",
    "    li.click()\n",
    "    for course in courses.itertuples():\n",
    "        if course.title in yesterdays_courses:\n",
    "            editor.send_keys('*gestern ')\n",
    "        elif course.title in new_courses:\n",
    "            editor.send_keys('*neu ')\n",
    "        if course.expiring < 99:\n",
    "            editor.send_keys('🕖 ')\n",
    "        if course.rating > 4.5:\n",
    "            bold.click()\n",
    "        link.click()\n",
    "        driver.find_element_by_id('linkPopover-href').send_keys(course.link)\n",
    "        driver.find_element_by_id('linkPopover-content').send_keys(course.title)\n",
    "        driver.find_element_by_id('linkPopover-content').send_keys(Keys.RETURN)\n",
    "        if course.rating > 4.5:\n",
    "            bold.click()\n",
    "        rounded = float(round(course.rating * 2, 0)/2)\n",
    "        stars = '★' * int(rounded) + '✯' * bool(rounded % 1)\n",
    "        stars += '☆' * (5 - len(stars))\n",
    "        num_ratings = '({} Bewertungen)'.format(int(course.num_ratings))\n",
    "        length = course.duration\n",
    "        editor.send_keys(', ' + stars + ' ' + num_ratings + ', ' + length)\n",
    "    \n",
    "        editor.send_keys(Keys.RETURN)\n",
    "        sleep(0.5)\n",
    "    editor.send_keys(Keys.RETURN)"
   ]
  },
  {
   "cell_type": "code",
   "execution_count": 100,
   "metadata": {},
   "outputs": [
    {
     "name": "stderr",
     "output_type": "stream",
     "text": [
      "D:\\Programme\\Anaconda\\lib\\site-packages\\ipykernel_launcher.py:12: UserWarning: Boolean Series key will be reindexed to match DataFrame index.\n",
      "  if sys.path[0] == '':\n"
     ]
    }
   ],
   "source": [
    "for language in languages:\n",
    "    bold.click()\n",
    "    editor.send_keys(lang[language])\n",
    "    bold.click()\n",
    "    editor.send_keys(Keys.ENTER)\n",
    "\n",
    "    val_lang = valuable[valuable.language == language]\n",
    "    main_topics = val_lang.topic_0.unique()\n",
    "    for main_topic in main_topics:\n",
    "        editor.send_keys(main_topic)\n",
    "        editor.send_keys(Keys.RETURN)\n",
    "        list_courses(val_lang[valuable.topic_0 == main_topic])\n",
    "    editor.send_keys(Keys.RETURN)"
   ]
  },
  {
   "cell_type": "code",
   "execution_count": 101,
   "metadata": {
    "scrolled": true
   },
   "outputs": [
    {
     "name": "stdout",
     "output_type": "stream",
     "text": [
      "https://www.udemy.com/course/cpa-online-marketing-kurs/?couponCode=E3D9D93D77D6A0787742\n",
      "https://www.udemy.com/course/listenaufbau-email-marketing-und-newsletter-kurs/?couponCode=D56812240E38A51DB465\n",
      "https://www.udemy.com/course/data-visualization-in-excel-for-business-professionals/?couponCode=FEB2020FREE\n",
      "https://www.udemy.com/course/stock-options-day-trading-success-mindset/?couponCode=F183514155225E1E8DFD\n",
      "https://www.udemy.com/course/transformational-leadership-training-course/?couponCode=E14296C8EB327EBB2FBC\n",
      "https://www.udemy.com/course/how-to-validate-your-idea-and-succeed-in-business/?couponCode=8D89C65A9052A040250C\n",
      "https://www.udemy.com/course/ultimate-time-management-best-time-management-course-class-training/?couponCode=432989C22969F29DBB65\n",
      "https://www.udemy.com/course/outstanding-customer-service/?couponCode=E262DB6BA4BDF7E62578\n",
      "https://www.udemy.com/course/business-education-guide-to-blockchain-and-cryptocurrencies/?couponCode=6073A48FABB1DC5DA4D0\n",
      "https://www.udemy.com/course/the-ultimate-guide-to-building-a-viral-website-like-buzzfeed/?couponCode=B4BFDF82802350DA9BC5\n",
      "https://www.udemy.com/course/persuasion-strategies-tools/?couponCode=692E4770C6FB5E36DE5C\n",
      "https://www.udemy.com/course/sell-online/?couponCode=9106E030DDD599537BEA\n",
      "https://www.udemy.com/course/learn-photo-editing-with-photoshop-2020/?couponCode=TRY8FREE\n",
      "https://www.udemy.com/course/photo-editing-with-free-software/?couponCode=EA0B5A65D1DB13380D2F\n",
      "https://www.udemy.com/course/interactive-photography-basics/?couponCode=FEBFREE\n",
      "https://www.udemy.com/course/how-to-analyze-football-soccer-basics/?couponCode=BA55E7B3F52CC8E4F6D8\n",
      "https://www.udemy.com/course/rhel-centos-8-administration-with-cockpit-web-console/?couponCode=MASTER-LINUX-2020\n",
      "https://www.udemy.com/course/podcast-sponsorships/?couponCode=0A040620D7E1DDFAB469\n",
      "https://www.udemy.com/course/10-copywriting-hacks-that-work-in-2016/?couponCode=D4BB81B2384C177A06CC\n",
      "https://www.udemy.com/course/how-to-create-high-quality-blog-content-that-gets-shared/?couponCode=664372F46A58061FCF73\n",
      "https://www.udemy.com/course/how-to-promote-cpa-offers-with-bing-ads/?couponCode=6A56B40C787FEFF93F0C\n",
      "https://www.udemy.com/course/how-to-build-a-converting-landing-page-from-scratch/?couponCode=C0A7C1E496670D5E185C\n",
      "https://www.udemy.com/course/home-business-cpa-marketing-from-scratch/?couponCode=AE11DEBF03A177024C32\n",
      "https://www.udemy.com/course/how-to-easily-analyze-your-competitors/?couponCode=1BC557FDD5D9682EBEF5\n",
      "https://www.udemy.com/course/facebook-marketing-how-to-improve-your-fan-page-performance/?couponCode=672F69E98C6B642E9C51\n",
      "https://www.udemy.com/course/how-to-get-your-first-10000-facebook-fans-in-2016/?couponCode=A585990FA9276D463DD9\n",
      "https://www.udemy.com/course/how-to-promote-your-event-on-facebook/?couponCode=BA4EEE6EF3A00FB4B107\n",
      "https://www.udemy.com/course/facebook-marketing-advanced-targeting-strategies/?couponCode=06EF902EEB4A8CD37BD2\n",
      "https://www.udemy.com/course/facebook-marketing-targeted-traffic/?couponCode=0B7E7DC14584A36353B8\n",
      "https://www.udemy.com/course/how-to-convert-your-facebook-fans-into-buyers/?couponCode=729BE545D6273BB47419\n",
      "https://www.udemy.com/course/facebook-marketing-next-level-fan-growth-strategies/?couponCode=900319A0137EDDA797BC\n",
      "https://www.udemy.com/course/10-facebook-marketing-hacks-that-work-in-2016/?couponCode=F58C8E0B9B658498E747\n",
      "https://www.udemy.com/course/powerful-way-to-grow-your-business-with-contests/?couponCode=CCE7FDB78DC6624DC8D3\n",
      "https://www.udemy.com/course/10-hacks-to-increase-fan-engagement-on-facebook/?couponCode=C2D87ABED6F1A2C8BBBB\n",
      "https://www.udemy.com/course/power-networking-for-podcast-success/?couponCode=63B2AC61CFD0B9A58FF6\n",
      "https://www.udemy.com/course/facebook-marketing-how-to-create-converting-ads/?couponCode=BBC5ADEF3AFBB1E1D56E\n",
      "https://www.udemy.com/course/facebook-marketing-next-level-list-building-strategies/?couponCode=F769466415A8C2760F96\n",
      "https://www.udemy.com/course/podcasting-profits-coaching-for-dollars/?couponCode=9B658D59D26CB36D0974\n",
      "https://www.udemy.com/course/how-to-grow-your-local-business-with-facebook/?couponCode=A7D288BDD83FCD8E47ED\n",
      "https://www.udemy.com/course/promoted-posts/?couponCode=5BF1A94B60536E6DDD4A\n",
      "https://www.udemy.com/course/outsource-podcasts-social-media-marketing/?couponCode=186F44D4ECBFBBFE4B36\n",
      "https://www.udemy.com/course/powerful-proofreading-tools-for-aspiring-writers/?couponCode=E0A7AFCE76603733D2D2\n",
      "https://www.udemy.com/course/how-to-find-keywords-to-reach-the-first-page-of-google/?couponCode=19562867E904D7EAF258\n",
      "https://www.udemy.com/course/how-to-dominate-excel-formatting-charting/?couponCode=DC8A42974A7367755299\n",
      "https://www.udemy.com/course/advanced-parenting-skills-best-parenting-class/?couponCode=BEE0CDDD868C4B9521DE\n",
      "https://www.udemy.com/course/dating-relationships-and-love/?couponCode=1CD710C451A4D978178C\n",
      "https://www.udemy.com/course/communication-skills-class-course-training/?couponCode=9972CAD9557FDA81342F\n",
      "https://www.udemy.com/course/how-to-achieve-anything-you-want-in-12-months/?couponCode=66B260B2ED965A230498\n",
      "https://www.udemy.com/course/a-modern-day-guide-to-stop-procrastinating/?couponCode=10ACC39EEECF2BCC215F\n",
      "https://www.udemy.com/course/stress-management-reduction-tools-techniques-skills-work/?couponCode=B6E5620401E5C8DDEB93\n",
      "https://www.udemy.com/course/coping-skills-tools-training-stress/?couponCode=228F4FE7586BADCA6CE0\n",
      "https://www.udemy.com/course/machine-learning-adv-support-vector-machines-svm-python/?couponCode=FEB2020FREE\n",
      "https://www.udemy.com/course/neural-network-understanding-and-building-an-ann-in-r/?couponCode=FEB2020FREE\n",
      "https://www.udemy.com/course/machine-learning-basics-classification-models-in-r/?couponCode=FEB2020FREE\n",
      "https://www.udemy.com/course/complete-sql-bootcamp-with-mysql-php-python/?couponCode=FREESQL\n",
      "https://www.udemy.com/course/just-enough-python/?couponCode=FEB_PYTHON_1\n",
      "https://www.udemy.com/course/artificial-intelligence-for-civil-engineers-part-1/?couponCode=93FFC0E24F9B3501E446\n",
      "https://www.udemy.com/course/userstory/?couponCode=250220_FREE\n",
      "https://www.udemy.com/course/learn-how-to-make-animated-2d-characters-in-unity3d/?couponCode=6BA7595D4FB477271D0F\n",
      "https://www.udemy.com/course/docker-for-dotnet-developers/?couponCode=D27291CA665876EAF42F\n",
      "https://www.udemy.com/course/html-css-javascript-certification-course-for-beginners/?couponCode=386F4144B7D0D1C2FA4C\n",
      "https://www.udemy.com/course/javascript-bootstrap-php-certification-for-beginners/?couponCode=60F705F6F4FE26A0B202\n",
      "https://www.udemy.com/course/front-end-web-development/?couponCode=CA800E64163D9CE6765F\n",
      "https://www.udemy.com/course/how-the-internet-works-the-web-development-process/?couponCode=86DAF1176A9842321B61\n",
      "https://www.udemy.com/course/nginx-apache-ssl-encryption-certification-course/?couponCode=D43A3A79CAB0AA5E1B2B\n",
      "https://www.udemy.com/course/unofficial-how-to-find-a-hot-topic-for-your-udemy-course/?couponCode=86E8BF80E9048A188C11\n",
      "https://www.udemy.com/course/unofficial-udemy-student-guide/?couponCode=B84C51FBF6F577B21D31\n",
      "https://www.udemy.com/course/10-product-creation-hacks-that-work-in-2016/?couponCode=3E950BC0DEFD621CF822\n",
      "https://www.udemy.com/course/basic-civil-engineering/?couponCode=MCQCIVIL\n",
      "https://www.udemy.com/course/aprende-a-programar-con-go/?couponCode=2B2F51C1C507E3484A4E\n",
      "https://www.udemy.com/course/learn-podcasting-brazil/?couponCode=24209FB1079CB2C70382\n",
      "https://www.udemy.com/course/iso45001-basdenetci/?couponCode=DISCUDEMYCOM\n"
     ]
    }
   ],
   "source": [
    "for course in valuable.itertuples():\n",
    "    print(course.link)"
   ]
  },
  {
   "cell_type": "markdown",
   "metadata": {},
   "source": [
    "## Subscribe to Courses\n",
    "Login manually"
   ]
  },
  {
   "cell_type": "code",
   "execution_count": 105,
   "metadata": {},
   "outputs": [],
   "source": [
    "driver.quit()\n",
    "driver = Firefox()"
   ]
  },
  {
   "cell_type": "code",
   "execution_count": 106,
   "metadata": {},
   "outputs": [],
   "source": [
    "driver.get('https://www.udemy.com')\n",
    "driver.find_element_by_xpath(\"//button[@class='btn btn-quaternary']\").click()"
   ]
  },
  {
   "cell_type": "code",
   "execution_count": null,
   "metadata": {},
   "outputs": [],
   "source": [
    "new_links = [course.link for course in valuable.itertuples() if not course.title in list(day_before.title)]\n",
    "for link in new_links:\n",
    "    driver.get(link)\n",
    "    try:\n",
    "        sleep(randint(4, 10))\n",
    "        btn = driver.find_element_by_xpath(\"//button[@data-purpose='buy-this-course-button']\")\n",
    "        if btn.text == 'Jetzt einschreiben':\n",
    "            btn.click()\n",
    "            sleep(6)\n",
    "        else:\n",
    "            print(link, 'already subscribed.')\n",
    "    except:\n",
    "        print(link, '# already subscribed.')"
   ]
  },
  {
   "cell_type": "code",
   "execution_count": 657,
   "metadata": {},
   "outputs": [],
   "source": [
    "driver.quit()"
   ]
  }
 ],
 "metadata": {
  "kernelspec": {
   "display_name": "Python 3",
   "language": "python",
   "name": "python3"
  },
  "language_info": {
   "codemirror_mode": {
    "name": "ipython",
    "version": 3
   },
   "file_extension": ".py",
   "mimetype": "text/x-python",
   "name": "python",
   "nbconvert_exporter": "python",
   "pygments_lexer": "ipython3",
   "version": "3.7.6"
  }
 },
 "nbformat": 4,
 "nbformat_minor": 2
}
